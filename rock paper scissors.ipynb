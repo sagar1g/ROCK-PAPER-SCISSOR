{
 "cells": [
  {
   "cell_type": "code",
   "execution_count": 2,
   "id": "292ce66d",
   "metadata": {},
   "outputs": [
    {
     "name": "stdout",
     "output_type": "stream",
     "text": [
      "enter your choice(1:- rock, 2:-paper, 3:-scissors,4:-exit):- 1\n",
      "you win! player you lose! computer\n",
      "enter your choice(1:- rock, 2:-paper, 3:-scissors,4:-exit):- 4\n",
      "final score\n",
      "computer score:- 0\n",
      "player score:- 1\n"
     ]
    }
   ],
   "source": [
    "#Rock vs paper-> paper wins\n",
    "#Rock vs scissor-> Rock wins\n",
    "#paper vs scissor-> scissor wins\n",
    "def project():\n",
    "    import random\n",
    "    choices=[1,2,3]\n",
    "    computer=random.choice(choices)\n",
    "    player_score=0\n",
    "    computer_score=0\n",
    "    while True:\n",
    "        player=int(input('enter your choice(1:- rock, 2:-paper, 3:-scissors,4:-exit):- '))\n",
    "        if computer==player:\n",
    "            print('tie')\n",
    "        elif player==1:\n",
    "            if computer==2:\n",
    "                print('you win!', 'player' ,'you lose!','computer' )\n",
    "                player_score+=1\n",
    "            else:\n",
    "                print('you win!' ,'computer' ,'you lose!','player')\n",
    "                computer_score+=1\n",
    "        elif player==3:\n",
    "            if computer==1:\n",
    "                print('you win','computer','you lose!','player')\n",
    "                computer_score+=1\n",
    "            else:\n",
    "                print('you win','player','you lose!','computer')\n",
    "                player_score+=1\n",
    "        elif player==2:\n",
    "            if computer==3:\n",
    "                print('you win!','computer','you lose!','player')\n",
    "                computer_score+=1\n",
    "            else:\n",
    "                print('you win!','player','you lose!','computer')\n",
    "                player_score+=1\n",
    "        elif player==4:\n",
    "            print('final score')\n",
    "            print(f'computer score:- {computer_score}')\n",
    "            print(f'player score:- {player_score}')\n",
    "            break\n",
    "        else:\n",
    "            print('not valid')\n",
    "        computer=random.choice(choices)\n",
    "project()"
   ]
  },
  {
   "cell_type": "code",
   "execution_count": null,
   "id": "e28a9eda",
   "metadata": {},
   "outputs": [],
   "source": []
  }
 ],
 "metadata": {
  "kernelspec": {
   "display_name": "Python 3 (ipykernel)",
   "language": "python",
   "name": "python3"
  },
  "language_info": {
   "codemirror_mode": {
    "name": "ipython",
    "version": 3
   },
   "file_extension": ".py",
   "mimetype": "text/x-python",
   "name": "python",
   "nbconvert_exporter": "python",
   "pygments_lexer": "ipython3",
   "version": "3.9.12"
  }
 },
 "nbformat": 4,
 "nbformat_minor": 5
}
